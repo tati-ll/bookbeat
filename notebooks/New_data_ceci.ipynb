{
 "cells": [
  {
   "cell_type": "code",
   "execution_count": 1,
   "id": "3d3f4ddf",
   "metadata": {},
   "outputs": [],
   "source": [
    "import pandas as pd"
   ]
  },
  {
   "cell_type": "code",
   "execution_count": 2,
   "id": "ad9193dd",
   "metadata": {},
   "outputs": [],
   "source": [
    "data_book = pd.read_csv('../raw_data/books.csv')"
   ]
  },
  {
   "cell_type": "code",
   "execution_count": 3,
   "id": "c955ad43",
   "metadata": {},
   "outputs": [
    {
     "name": "stdout",
     "output_type": "stream",
     "text": [
      "<class 'pandas.core.frame.DataFrame'>\n",
      "RangeIndex: 31284 entries, 0 to 31283\n",
      "Data columns (total 10 columns):\n",
      " #   Column        Non-Null Count  Dtype \n",
      "---  ------        --------------  ----- \n",
      " 0   title         31284 non-null  object\n",
      " 1   description   23197 non-null  object\n",
      " 2   gender        31226 non-null  object\n",
      " 3   num_pages     31284 non-null  int64 \n",
      " 4   editorial     15307 non-null  object\n",
      " 5   isbn          31246 non-null  object\n",
      " 6   year_edition  31284 non-null  int64 \n",
      " 7   date_edition  13123 non-null  object\n",
      " 8   writer        9150 non-null   object\n",
      " 9   image         31246 non-null  object\n",
      "dtypes: int64(2), object(8)\n",
      "memory usage: 2.4+ MB\n"
     ]
    }
   ],
   "source": [
    "data_book.info()"
   ]
  },
  {
   "cell_type": "code",
   "execution_count": 4,
   "id": "5430fb0d",
   "metadata": {},
   "outputs": [
    {
     "data": {
      "text/plain": [
       "Narrativa fantástica                         9671\n",
       "Narrativa de ciencia ficción                 8073\n",
       "Narrativa de viajes                          7216\n",
       "Narrativa de terror                          3484\n",
       "Narrativa de humor                           2761\n",
       "Literatura en ingles                            8\n",
       "Literatura en francés                           4\n",
       "Narrativa extranjera hasta el siglo XVIII       3\n",
       "Cuentos populares                               2\n",
       "Terror en bolsillo                              1\n",
       "Literatura 10 a 12 años                         1\n",
       "Historia de los países de África                1\n",
       "Fantasía y magia                                1\n",
       "Name: gender, dtype: int64"
      ]
     },
     "execution_count": 4,
     "metadata": {},
     "output_type": "execute_result"
    }
   ],
   "source": [
    "data_book['gender'].value_counts()"
   ]
  }
 ],
 "metadata": {
  "kernelspec": {
   "display_name": "Python 3 (ipykernel)",
   "language": "python",
   "name": "python3"
  },
  "language_info": {
   "codemirror_mode": {
    "name": "ipython",
    "version": 3
   },
   "file_extension": ".py",
   "mimetype": "text/x-python",
   "name": "python",
   "nbconvert_exporter": "python",
   "pygments_lexer": "ipython3",
   "version": "3.10.6"
  },
  "toc": {
   "base_numbering": 1,
   "nav_menu": {},
   "number_sections": true,
   "sideBar": true,
   "skip_h1_title": false,
   "title_cell": "Table of Contents",
   "title_sidebar": "Contents",
   "toc_cell": false,
   "toc_position": {},
   "toc_section_display": true,
   "toc_window_display": false
  }
 },
 "nbformat": 4,
 "nbformat_minor": 5
}
