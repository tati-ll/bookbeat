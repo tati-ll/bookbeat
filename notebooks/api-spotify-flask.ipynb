{
 "cells": [
  {
   "cell_type": "code",
   "execution_count": 1,
   "metadata": {
    "scrolled": true
   },
   "outputs": [
    {
     "ename": "SyntaxError",
     "evalue": "invalid syntax (4247906500.py, line 1)",
     "output_type": "error",
     "traceback": [
      "\u001b[0;36m  Cell \u001b[0;32mIn [1], line 1\u001b[0;36m\u001b[0m\n\u001b[0;31m    pip3 install spotipy Flask Flask-Session\u001b[0m\n\u001b[0m         ^\u001b[0m\n\u001b[0;31mSyntaxError\u001b[0m\u001b[0;31m:\u001b[0m invalid syntax\n"
     ]
    }
   ],
   "source": [
    "pip install spotipy Flask Flask-Session"
   ]
  },
  {
   "cell_type": "code",
   "execution_count": 3,
   "metadata": {},
   "outputs": [
    {
     "name": "stdout",
     "output_type": "stream",
     "text": [
      "Collecting Flask\n",
      "  Downloading flask-3.0.0-py3-none-any.whl.metadata (3.6 kB)\n",
      "Collecting Flask-Session\n",
      "  Downloading flask_session-0.5.0-py3-none-any.whl (7.2 kB)\n",
      "Collecting Werkzeug>=3.0.0 (from Flask)\n",
      "  Using cached werkzeug-3.0.1-py3-none-any.whl.metadata (4.1 kB)\n",
      "Requirement already satisfied: Jinja2>=3.1.2 in /home/silvhera/.pyenv/versions/3.10.6/envs/lewagon/lib/python3.10/site-packages (from Flask) (3.1.2)\n",
      "Collecting itsdangerous>=2.1.2 (from Flask)\n",
      "  Using cached itsdangerous-2.1.2-py3-none-any.whl (15 kB)\n",
      "Requirement already satisfied: click>=8.1.3 in /home/silvhera/.pyenv/versions/3.10.6/envs/lewagon/lib/python3.10/site-packages (from Flask) (8.1.3)\n",
      "Collecting blinker>=1.6.2 (from Flask)\n",
      "  Using cached blinker-1.7.0-py3-none-any.whl.metadata (1.9 kB)\n",
      "Collecting cachelib (from Flask-Session)\n",
      "  Downloading cachelib-0.10.2-py3-none-any.whl (18 kB)\n",
      "Requirement already satisfied: MarkupSafe>=2.0 in /home/silvhera/.pyenv/versions/3.10.6/envs/lewagon/lib/python3.10/site-packages (from Jinja2>=3.1.2->Flask) (2.1.1)\n",
      "Downloading flask-3.0.0-py3-none-any.whl (99 kB)\n",
      "\u001b[2K   \u001b[90m━━━━━━━━━━━━━━━━━━━━━━━━━━━━━━━━━━━━━━━━\u001b[0m \u001b[32m99.7/99.7 kB\u001b[0m \u001b[31m3.4 MB/s\u001b[0m eta \u001b[36m0:00:00\u001b[0m\n",
      "\u001b[?25hUsing cached blinker-1.7.0-py3-none-any.whl (13 kB)\n",
      "Using cached werkzeug-3.0.1-py3-none-any.whl (226 kB)\n",
      "Installing collected packages: Werkzeug, itsdangerous, cachelib, blinker, Flask, Flask-Session\n",
      "  Attempting uninstall: Werkzeug\n",
      "    Found existing installation: Werkzeug 2.2.2\n",
      "    Uninstalling Werkzeug-2.2.2:\n",
      "      Successfully uninstalled Werkzeug-2.2.2\n",
      "  Attempting uninstall: blinker\n",
      "    Found existing installation: blinker 1.5\n",
      "    Uninstalling blinker-1.5:\n",
      "      Successfully uninstalled blinker-1.5\n",
      "Successfully installed Flask-3.0.0 Flask-Session-0.5.0 Werkzeug-3.0.1 blinker-1.7.0 cachelib-0.10.2 itsdangerous-2.1.2\n",
      "\n",
      "\u001b[1m[\u001b[0m\u001b[34;49mnotice\u001b[0m\u001b[1;39;49m]\u001b[0m\u001b[39;49m A new release of pip is available: \u001b[0m\u001b[31;49m23.3.1\u001b[0m\u001b[39;49m -> \u001b[0m\u001b[32;49m23.3.2\u001b[0m\n",
      "\u001b[1m[\u001b[0m\u001b[34;49mnotice\u001b[0m\u001b[1;39;49m]\u001b[0m\u001b[39;49m To update, run: \u001b[0m\u001b[32;49mpython3.10 -m pip install --upgrade pip\u001b[0m\n",
      "Note: you may need to restart the kernel to use updated packages.\n"
     ]
    }
   ],
   "source": [
    "pip install Flask Flask-Session"
   ]
  },
  {
   "cell_type": "code",
   "execution_count": 4,
   "metadata": {},
   "outputs": [],
   "source": [
    "CLIENT_ID = 'be74c9aaf5c448c08b74412b92eb7ca3'\n",
    "CLIENT_SECRET = '4fb7c919ee5146559142ba4f8f374f5e'\n",
    "SPOTIPY_REDIRECT_URI = 'http://localhost:8000/callback/'"
   ]
  },
  {
   "cell_type": "code",
   "execution_count": 1,
   "metadata": {},
   "outputs": [],
   "source": [
    "from flask import Flask, redirect, request, session, make_response\n",
    "import spotipy\n",
    "from spotipy.oauth2 import SpotifyOAuth\n",
    "import requests\n",
    "import random\n",
    "\n",
    "# Crear la aplicación Flask\n",
    "app = Flask(__name__)\n",
    "\n",
    "# Configurar las credenciales y el alcance de la API de Spotify\n",
    "app.config[\"CLIENT_ID\"] = 'be74c9aaf5c448c08b74412b92eb7ca3'\n",
    "app.config[\"CLIENT_SECRET\"] = '4fb7c919ee5146559142ba4f8f374f5e'\n",
    "app.config[\"REDIRECT_URI\"] = \"http://localhost:8000/callback/\"\n",
    "app.config[\"SCOPE\"] = \"playlist-modify-public\"\n",
    "\n",
    "# Crear una clave aleatoria para el estado de la sesión\n",
    "def create_state_key(length):\n",
    "    letters = \"abcdefghijklmnopqrstuvwxyzABCDEFGHIJKLMNOPQRSTUVWXYZ0123456789\"\n",
    "    return \"\".join(random.choice(letters) for i in range(length))\n",
    "\n",
    "# Solicitar la autorización del usuario\n",
    "@app.route(\"/authorize\")\n",
    "def authorize():\n",
    "    client_id = app.config[\"CLIENT_ID\"]\n",
    "    redirect_uri = app.config[\"REDIRECT_URI\"]\n",
    "    scope = app.config[\"SCOPE\"]\n",
    "    state_key = create_state_key(15)\n",
    "    session[\"state_key\"] = state_key\n",
    "    authorize_url = \"https://accounts.spotify.com/en/authorize?\"\n",
    "    params = {\n",
    "        \"response_type\": \"code\",\n",
    "        \"client_id\": client_id,\n",
    "        \"redirect_uri\": redirect_uri,\n",
    "        \"scope\": scope,\n",
    "        \"state\": state_key,\n",
    "    }\n",
    "    query_params = requests.utils.urlencode(params)\n",
    "    response = make_response(redirect(authorize_url + query_params))\n",
    "    return response\n",
    "\n",
    "# Obtener el token de acceso\n",
    "@app.route(\"/callback\")\n",
    "def callback():\n",
    "    code = request.args.get(\"code\")\n",
    "    state = request.args.get(\"state\")\n",
    "    stored_state = session.get(\"state_key\")\n",
    "    if state is None or state != stored_state:\n",
    "        return redirect(\"/error\")\n",
    "    else:\n",
    "        sp = spotipy.Spotify(auth_manager=SpotifyOAuth(client_id=app.config[\"CLIENT_ID\"], client_secret=app.config[\"CLIENT_SECRET\"], redirect_uri=app.config[\"REDIRECT_URI\"], scope=app.config[\"SCOPE\"]))\n",
    "        token_info = sp.oauth2.get_access_token(code)\n",
    "        access_token = token_info[\"access_token\"]\n",
    "        session[\"access_token\"] = access_token\n",
    "        return redirect(\"/create_playlist\")\n",
    "\n",
    "# Crear la playlist\n",
    "@app.route(\"/create_playlist\")\n",
    "def create_playlist():\n",
    "    access_token = session.get(\"access_token\")\n",
    "    if access_token is None:\n",
    "        return redirect(\"/authorize\")\n",
    "    else:\n",
    "        sp = spotipy.Spotify(auth=access_token)\n",
    "        user_id = sp.current_user()[\"id\"]\n",
    "        session[\"user_id\"] = user_id\n",
    "        playlist_name = \"Mi playlist genial\"\n",
    "        playlist_description = \"Una playlist creada con la API de Spotify y Flask\"\n",
    "        playlist = sp.user_playlist_create(user_id, playlist_name, public=True, description=playlist_description)\n",
    "        playlist_id = playlist[\"id\"]\n",
    "        session[\"playlist_id\"] = playlist_id\n",
    "        return redirect(\"/add_tracks\")\n",
    "\n",
    "# Añadir canciones a la playlist\n",
    "@app.route(\"/add_tracks\")\n",
    "def add_tracks():\n",
    "    access_token = session.get(\"access_token\")\n",
    "    if access_token is None:\n",
    "        return redirect(\"/authorize\")\n",
    "    else:\n",
    "        sp = spotipy.Spotify(auth=access_token)\n",
    "        user_id = session.get(\"user_id\")\n",
    "        playlist_id = session.get(\"playlist_id\")\n",
    "        tracks = [\"spotify:track:6rqhFgbbKwnb9MLmUQDhG6\", \"spotify:track:0eGsygTp906u18L0Oimnem\", \"spotify:track:7GhIk7Il098yCjg4BQjzvb\"]\n",
    "        sp.user_playlist_add_tracks(user_id, playlist_id, tracks)\n",
    "        return f\"Playlist {playlist_name} creada con éxito\"\n"
   ]
  },
  {
   "cell_type": "code",
   "execution_count": null,
   "metadata": {},
   "outputs": [],
   "source": []
  }
 ],
 "metadata": {
  "kernelspec": {
   "display_name": "Python 3 (ipykernel)",
   "language": "python",
   "name": "python3"
  },
  "language_info": {
   "codemirror_mode": {
    "name": "ipython",
    "version": 3
   },
   "file_extension": ".py",
   "mimetype": "text/x-python",
   "name": "python",
   "nbconvert_exporter": "python",
   "pygments_lexer": "ipython3",
   "version": "3.10.6"
  },
  "toc": {
   "base_numbering": 1,
   "nav_menu": {},
   "number_sections": true,
   "sideBar": true,
   "skip_h1_title": false,
   "title_cell": "Table of Contents",
   "title_sidebar": "Contents",
   "toc_cell": false,
   "toc_position": {},
   "toc_section_display": true,
   "toc_window_display": false
  }
 },
 "nbformat": 4,
 "nbformat_minor": 2
}
